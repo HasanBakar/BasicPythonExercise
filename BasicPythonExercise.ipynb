{
 "cells": [
  {
   "cell_type": "markdown",
   "id": "52d0290d",
   "metadata": {},
   "source": [
    "# 💙💚 Simple print something "
   ]
  },
  {
   "cell_type": "code",
   "execution_count": 3,
   "id": "0a09b66d",
   "metadata": {},
   "outputs": [
    {
     "name": "stdout",
     "output_type": "stream",
     "text": [
      "Hello world!\n",
      "My name is Abu Bakar\n",
      "\n",
      "I am a MERN stack developer\n",
      "    and also a running student \n",
      "        in computer science and engineering.\n",
      "\n"
     ]
    }
   ],
   "source": [
    "print('Hello world!')\n",
    "print(\"My name is Abu Bakar\")\n",
    "print('''\n",
    "I am a MERN stack developer\n",
    "    and also a running student \n",
    "        in computer science and engineering.\n",
    "''')"
   ]
  },
  {
   "cell_type": "markdown",
   "id": "f3132b06",
   "metadata": {},
   "source": [
    "In above the source code \n",
    "we can print something in three ways\n",
    "1. single quotation \n",
    "2. double quotation\n",
    "3. triple quotation\n"
   ]
  },
  {
   "cell_type": "markdown",
   "id": "d6e442fa",
   "metadata": {},
   "source": [
    "# Indentation refers to the spaces at the beginning of a code line.\n",
    "\n",
    "Where in other programming languages the indentation in code is for readability only, the indentation in Python is very important.\n",
    "\n",
    "Python uses indentation to indicate a block of code.\n",
    "\n"
   ]
  },
  {
   "cell_type": "markdown",
   "id": "63ca8d6b",
   "metadata": {},
   "source": [
    "# Python Comments\n",
    "\n",
    "Comments can be used to explain Python code.\n",
    "\n",
    "Comments can be used to make the code more readable.\n",
    "\n",
    "Comments can be used to prevent execution when testing code."
   ]
  },
  {
   "cell_type": "code",
   "execution_count": 4,
   "id": "a593aed2",
   "metadata": {},
   "outputs": [],
   "source": [
    "# this a comments"
   ]
  },
  {
   "cell_type": "markdown",
   "id": "c5bb1d8c",
   "metadata": {},
   "source": [
    "# Variables\n",
    "Variables are containers for storing data values.\n",
    "\n"
   ]
  },
  {
   "cell_type": "code",
   "execution_count": 5,
   "id": "a2d96581",
   "metadata": {},
   "outputs": [
    {
     "name": "stdout",
     "output_type": "stream",
     "text": [
      "Abu Bakar 100 12 5.44\n"
     ]
    }
   ],
   "source": [
    "name = 'Abu Bakar'\n",
    "savings = 100\n",
    "num_months = 12\n",
    "height = 5.44\n",
    "print(name, savings, num_months, height)"
   ]
  },
  {
   "cell_type": "markdown",
   "id": "6cc99525",
   "metadata": {},
   "source": [
    "# Python - Variable Names\n",
    "A variable name must start with a letter or the underscore character\n",
    "A variable name cannot start with a number\n",
    "A variable name can only contain alpha-numeric characters and underscores (A-z, 0-9, and _ )\n",
    "Variable names are case-sensitive (age, Age and AGE are three different variables)\n",
    "A variable name cannot be any of the Python keywords.\n",
    "\n"
   ]
  },
  {
   "cell_type": "code",
   "execution_count": 6,
   "id": "f2ba3054",
   "metadata": {},
   "outputs": [],
   "source": [
    "# multiple variable declaration\n",
    "x, y, z = 3, 5, 6\n",
    "p, q, r = 'Orange', 'Apple', 'Pump'\n"
   ]
  },
  {
   "cell_type": "code",
   "execution_count": null,
   "id": "104499f3",
   "metadata": {},
   "outputs": [],
   "source": []
  }
 ],
 "metadata": {
  "kernelspec": {
   "display_name": "Python 3 (ipykernel)",
   "language": "python",
   "name": "python3"
  },
  "language_info": {
   "codemirror_mode": {
    "name": "ipython",
    "version": 3
   },
   "file_extension": ".py",
   "mimetype": "text/x-python",
   "name": "python",
   "nbconvert_exporter": "python",
   "pygments_lexer": "ipython3",
   "version": "3.9.13"
  }
 },
 "nbformat": 4,
 "nbformat_minor": 5
}
