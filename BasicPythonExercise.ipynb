{
 "cells": [
  {
   "cell_type": "markdown",
   "id": "52d0290d",
   "metadata": {},
   "source": [
    "# 💙💚 Simple print something "
   ]
  },
  {
   "cell_type": "code",
   "execution_count": 3,
   "id": "0a09b66d",
   "metadata": {},
   "outputs": [
    {
     "name": "stdout",
     "output_type": "stream",
     "text": [
      "Hello world!\n",
      "My name is Abu Bakar\n",
      "\n",
      "I am a MERN stack developer\n",
      "    and also a running student \n",
      "        in computer science and engineering.\n",
      "\n"
     ]
    }
   ],
   "source": [
    "print('Hello world!')\n",
    "print(\"My name is Abu Bakar\")\n",
    "print('''\n",
    "I am a MERN stack developer\n",
    "    and also a running student \n",
    "        in computer science and engineering.\n",
    "''')"
   ]
  },
  {
   "cell_type": "markdown",
   "id": "f3132b06",
   "metadata": {},
   "source": [
    "In above the source code \n",
    "we can print something in three ways\n",
    "1. single quotation \n",
    "2. double quotation\n",
    "3. triple quotation\n"
   ]
  },
  {
   "cell_type": "markdown",
   "id": "d6e442fa",
   "metadata": {},
   "source": [
    "# Indentation refers to the spaces at the beginning of a code line.\n",
    "\n",
    "Where in other programming languages the indentation in code is for readability only, the indentation in Python is very important.\n",
    "\n",
    "Python uses indentation to indicate a block of code.\n",
    "\n"
   ]
  },
  {
   "cell_type": "markdown",
   "id": "63ca8d6b",
   "metadata": {},
   "source": [
    "# Python Comments\n",
    "\n",
    "Comments can be used to explain Python code.\n",
    "\n",
    "Comments can be used to make the code more readable.\n",
    "\n",
    "Comments can be used to prevent execution when testing code."
   ]
  },
  {
   "cell_type": "code",
   "execution_count": 4,
   "id": "a593aed2",
   "metadata": {},
   "outputs": [],
   "source": [
    "# this a comments"
   ]
  },
  {
   "cell_type": "markdown",
   "id": "c5bb1d8c",
   "metadata": {},
   "source": [
    "# Variables\n",
    "Variables are containers for storing data values.\n",
    "\n"
   ]
  },
  {
   "cell_type": "code",
   "execution_count": 5,
   "id": "a2d96581",
   "metadata": {},
   "outputs": [
    {
     "name": "stdout",
     "output_type": "stream",
     "text": [
      "Abu Bakar 100 12 5.44\n"
     ]
    }
   ],
   "source": [
    "name = 'Abu Bakar'\n",
    "savings = 100\n",
    "num_months = 12\n",
    "height = 5.44\n",
    "print(name, savings, num_months, height)"
   ]
  },
  {
   "cell_type": "markdown",
   "id": "6cc99525",
   "metadata": {},
   "source": [
    "# Python - Variable Names\n",
    "A variable name must start with a letter or the underscore character\n",
    "A variable name cannot start with a number\n",
    "A variable name can only contain alpha-numeric characters and underscores (A-z, 0-9, and _ )\n",
    "Variable names are case-sensitive (age, Age and AGE are three different variables)\n",
    "A variable name cannot be any of the Python keywords.\n",
    "\n"
   ]
  },
  {
   "cell_type": "markdown",
   "id": "83e124e7",
   "metadata": {},
   "source": [
    "~~~Remember that variable names are case-sensitive"
   ]
  },
  {
   "cell_type": "code",
   "execution_count": 6,
   "id": "f2ba3054",
   "metadata": {},
   "outputs": [],
   "source": [
    "# multiple variable declaration\n",
    "x, y, z = 3, 5, 6\n",
    "p, q, r = 'Orange', 'Apple', 'Pump'\n"
   ]
  },
  {
   "cell_type": "markdown",
   "id": "d6cd5c60",
   "metadata": {},
   "source": [
    "# Type Casting and Get the Type using type() method"
   ]
  },
  {
   "cell_type": "code",
   "execution_count": 1,
   "id": "c8dabdb4",
   "metadata": {},
   "outputs": [
    {
     "name": "stdout",
     "output_type": "stream",
     "text": [
      "This variable type  <class 'int'> 33\n",
      "This variable type is <class 'str'> 33\n",
      "This variable type is  <class 'float'> 33.0\n",
      "This variable type is <class 'int'> 33\n"
     ]
    }
   ],
   "source": [
    "number = 33\n",
    "# number to string \n",
    "stringFormat  = str(number)\n",
    "#integer to float \n",
    "floatFormat = float(number)\n",
    "#string to integer number\n",
    "integerNumber = int(stringFormat)\n",
    "print(\"This variable type \", type(number), number)\n",
    "print(\"This variable type is\",type(stringFormat), stringFormat)\n",
    "print(\"This variable type is \",type(floatFormat), floatFormat)\n",
    "print(\"This variable type is\", type(integerNumber),integerNumber)"
   ]
  },
  {
   "cell_type": "markdown",
   "id": "878fb76d",
   "metadata": {},
   "source": [
    "## Many Values to Multiple Variables\n"
   ]
  },
  {
   "cell_type": "code",
   "execution_count": 2,
   "id": "2b61e99e",
   "metadata": {},
   "outputs": [
    {
     "name": "stdout",
     "output_type": "stream",
     "text": [
      "x = Ami y = Tumi z = Amra\n"
     ]
    }
   ],
   "source": [
    "# Python allows you to assign values to multiple variables in one line:\n",
    "\n",
    "x, y, z  = \"Ami\", \"Tumi\", \"Amra\"\n",
    "print(\"x =\", x, \"y =\",y, \"z =\", z )"
   ]
  },
  {
   "cell_type": "markdown",
   "id": "e0d3acd0",
   "metadata": {},
   "source": [
    "## One Value to Multiple Variables"
   ]
  },
  {
   "cell_type": "code",
   "execution_count": 3,
   "id": "aa76a164",
   "metadata": {},
   "outputs": [
    {
     "name": "stdout",
     "output_type": "stream",
     "text": [
      "Orange\n",
      "Orange\n",
      "Orange\n"
     ]
    }
   ],
   "source": [
    "x = y = z = \"Orange\"\n",
    "print(x)\n",
    "print(y)\n",
    "print(z)"
   ]
  },
  {
   "cell_type": "markdown",
   "id": "e648707d",
   "metadata": {},
   "source": [
    "##  Unpack a Collection\n",
    "If you have a collection of values in a list, tuple etc. Python allows you to extract the values into variables. This is called unpacking.\n",
    "\n"
   ]
  },
  {
   "cell_type": "code",
   "execution_count": 5,
   "id": "9db5cda9",
   "metadata": {},
   "outputs": [
    {
     "name": "stdout",
     "output_type": "stream",
     "text": [
      "Apple\n",
      "Banana\n",
      "Cherry\n"
     ]
    }
   ],
   "source": [
    "# list unpacking\n",
    "fruits = [\"Apple\", \"Banana\", \"Cherry\"]\n",
    "x,  y, z = fruits\n",
    "print(x)\n",
    "print(y)\n",
    "print(z)"
   ]
  },
  {
   "cell_type": "code",
   "execution_count": 6,
   "id": "89b20620",
   "metadata": {},
   "outputs": [
    {
     "name": "stdout",
     "output_type": "stream",
     "text": [
      "Apple\n",
      "Banana\n",
      "Cherry\n"
     ]
    }
   ],
   "source": [
    "# tuple unpacking\n",
    "fruits = (\"Apple\", \"Banana\", \"Cherry\")\n",
    "(x,y,z) = fruits\n",
    "print(x)\n",
    "print(y)\n",
    "print(z)"
   ]
  },
  {
   "cell_type": "markdown",
   "id": "11f25af1",
   "metadata": {},
   "source": [
    "#### If the asterisk is added to another variable name than the last, Python will assign values to the variable until the number of values left matches the number of variables left.\n",
    "\n"
   ]
  },
  {
   "cell_type": "code",
   "execution_count": 8,
   "id": "9c61782e",
   "metadata": {},
   "outputs": [
    {
     "name": "stdout",
     "output_type": "stream",
     "text": [
      "Apple\n",
      "Banana\n",
      "['Cherry', 'Mango', 'Orange', 'Watermelon']\n"
     ]
    }
   ],
   "source": [
    "# special case I of tuple\n",
    "fruits = (\"Apple\", \"Banana\", \"Cherry\", \"Mango\", \"Orange\",\"Watermelon\")\n",
    "(x, y,  *z) = fruits\n",
    "print(x)\n",
    "print(y)\n",
    "print(z)"
   ]
  },
  {
   "cell_type": "code",
   "execution_count": 9,
   "id": "9a0658c4",
   "metadata": {},
   "outputs": [
    {
     "name": "stdout",
     "output_type": "stream",
     "text": [
      "Apple\n",
      "['Banana', 'Cherry', 'Mango', 'Orange']\n",
      "Watermelon\n"
     ]
    }
   ],
   "source": [
    "# special case II of tuple\n",
    "fruits = (\"Apple\", \"Banana\", \"Cherry\", \"Mango\", \"Orange\",\"Watermelon\")\n",
    "(x, *y,  z) = fruits\n",
    "print(x)\n",
    "print(y)\n",
    "print(z)"
   ]
  },
  {
   "cell_type": "code",
   "execution_count": 10,
   "id": "becfc347",
   "metadata": {},
   "outputs": [
    {
     "name": "stdout",
     "output_type": "stream",
     "text": [
      "['Apple', 'Banana', 'Cherry', 'Mango']\n",
      "Orange\n",
      "Watermelon\n"
     ]
    }
   ],
   "source": [
    "# special case III of tuple\n",
    "fruits = (\"Apple\", \"Banana\", \"Cherry\", \"Mango\", \"Orange\",\"Watermelon\")\n",
    "(*x, y,  z) = fruits\n",
    "print(x)\n",
    "print(y)\n",
    "print(z)"
   ]
  },
  {
   "cell_type": "markdown",
   "id": "3d6c971d",
   "metadata": {},
   "source": [
    "# # Python - Output Variables\n",
    "\n"
   ]
  },
  {
   "cell_type": "code",
   "execution_count": 11,
   "id": "3c7cdfda",
   "metadata": {},
   "outputs": [
    {
     "name": "stdout",
     "output_type": "stream",
     "text": [
      "I am a quick learner. Now I am  learning python basic\n"
     ]
    }
   ],
   "source": [
    "#The Python print() function is often used to output variables.\n",
    "\n",
    "x = \"I am a quick learner. Now I am  learning python basic\"\n",
    "print(x)"
   ]
  },
  {
   "cell_type": "code",
   "execution_count": 12,
   "id": "c50d50c8",
   "metadata": {},
   "outputs": [
    {
     "name": "stdout",
     "output_type": "stream",
     "text": [
      "python is Awesome!\n"
     ]
    }
   ],
   "source": [
    "# In the print() function, you output multiple variables, separated by a comma:\n",
    "\n",
    "x = 'python'\n",
    "y = 'is'\n",
    "z = 'Awesome!'\n",
    "print(x, y, z)"
   ]
  },
  {
   "cell_type": "code",
   "execution_count": 15,
   "id": "0f0f55f1",
   "metadata": {},
   "outputs": [
    {
     "name": "stdout",
     "output_type": "stream",
     "text": [
      "Keep learning keep exploring\n"
     ]
    }
   ],
   "source": [
    "# we can also use the + operator to output multiple variables:\n",
    "x = 'Keep '\n",
    "y = 'learning '\n",
    "z = 'keep '\n",
    "u = \"exploring\"\n",
    "print(x + y + z + u)\n"
   ]
  },
  {
   "cell_type": "markdown",
   "id": "0afe4abf",
   "metadata": {},
   "source": [
    "##  Global Variables\n",
    "Variables that are created outside of a function (as in all of the examples above) are known as global variables.\n",
    "\n",
    "Global variables can be used by everyone, both inside of functions and outside."
   ]
  },
  {
   "cell_type": "code",
   "execution_count": 1,
   "id": "3a14619f",
   "metadata": {},
   "outputs": [
    {
     "name": "stdout",
     "output_type": "stream",
     "text": [
      "Hello, Kasem Welcome!\n"
     ]
    }
   ],
   "source": [
    "x = \"Kasem\"\n",
    "def greetings():\n",
    "    print(\"Hello,\", x, \"Welcome!\")\n",
    "greetings()"
   ]
  },
  {
   "cell_type": "code",
   "execution_count": 4,
   "id": "3dce773a",
   "metadata": {},
   "outputs": [
    {
     "name": "stdout",
     "output_type": "stream",
     "text": [
      "I am learning with w3schools\n",
      "Hello, python is Awesome\n"
     ]
    }
   ],
   "source": [
    "x = \"Hello,\"\n",
    "def greetings1():\n",
    "    y = \"Awesome\"\n",
    "    print(x, \"python is\", y)\n",
    "print(\"I am learning with w3schools\")\n",
    "greetings1()"
   ]
  },
  {
   "cell_type": "code",
   "execution_count": 1,
   "id": "3e7cbd19",
   "metadata": {},
   "outputs": [
    {
     "name": "stdout",
     "output_type": "stream",
     "text": [
      "Python is fantastic\n"
     ]
    }
   ],
   "source": [
    "# global variable example\n",
    "def test():\n",
    "    global x\n",
    "    x = \"fantastic\"\n",
    "test()\n",
    "print(\"Python is \"+ x)"
   ]
  },
  {
   "cell_type": "markdown",
   "id": "7e1e5b3e",
   "metadata": {},
   "source": [
    "## Python Data Types\n",
    "\n",
    "Built-in Data Types\n",
    "In programming, data type is an important concept.\n",
    "\n",
    "Variables can store data of different types, and different types can do different things.\n",
    "\n",
    "Python has the following data types built-in by default, in these categories:\n",
    "\n",
    "'''Text Type:\tstr\n",
    "Numeric Types:\tint, float, complex\n",
    "Sequence Types:\tlist, tuple, range\n",
    "Mapping Type:\tdict\n",
    "Set Types:\tset, frozenset\n",
    "Boolean Type:\tbool\n",
    "Binary Types:\tbytes, bytearray, memoryview\n",
    "None Type:\tNoneType'''\n"
   ]
  },
  {
   "cell_type": "code",
   "execution_count": 2,
   "id": "a8467490",
   "metadata": {},
   "outputs": [
    {
     "name": "stdout",
     "output_type": "stream",
     "text": [
      "<class 'int'>\n"
     ]
    }
   ],
   "source": [
    "#example I\n",
    "x = 5\n",
    "print(type(x))\n"
   ]
  },
  {
   "cell_type": "code",
   "execution_count": 4,
   "id": "4e2b2384",
   "metadata": {},
   "outputs": [
    {
     "name": "stdout",
     "output_type": "stream",
     "text": [
      "Hello, Abu Bakar\n",
      "<class 'str'>\n"
     ]
    }
   ],
   "source": [
    "# 1. str type example\n",
    "x = \"Hello, Abu Bakar\"\n",
    "\n",
    "# display value of x\n",
    "print(x)\n",
    "\n",
    "# display data type of x\n",
    "print(type(x))"
   ]
  },
  {
   "cell_type": "code",
   "execution_count": 5,
   "id": "b3cb9e2f",
   "metadata": {},
   "outputs": [
    {
     "name": "stdout",
     "output_type": "stream",
     "text": [
      "20\n",
      "<class 'int'>\n"
     ]
    }
   ],
   "source": [
    "# 2. int type example \n",
    "x = 20\n",
    "#display value of x\n",
    "print(x)\n",
    "\n",
    "#display data type of x\n",
    "print(type(x))"
   ]
  },
  {
   "cell_type": "code",
   "execution_count": 6,
   "id": "0a5b127f",
   "metadata": {},
   "outputs": [
    {
     "name": "stdout",
     "output_type": "stream",
     "text": [
      "30.3\n",
      "<class 'float'>\n"
     ]
    }
   ],
   "source": [
    "#3. float type example\n",
    "\n",
    "x = 30.3\n",
    "\n",
    "#display value of x\n",
    "print(x)\n",
    "\n",
    "#display data type of x\n",
    "print(type(x))"
   ]
  },
  {
   "cell_type": "code",
   "execution_count": 7,
   "id": "d13792e2",
   "metadata": {},
   "outputs": [
    {
     "name": "stdout",
     "output_type": "stream",
     "text": [
      "2j\n",
      "<class 'complex'>\n"
     ]
    }
   ],
   "source": [
    "# 4. complex type example \n",
    "\n",
    "z = 2j\n",
    "\n",
    "#display the value of z\n",
    "print(z)\n",
    "\n",
    "#display the data type of z\n",
    "\n",
    "print(type(z))"
   ]
  },
  {
   "cell_type": "code",
   "execution_count": 9,
   "id": "7151bda8",
   "metadata": {},
   "outputs": [
    {
     "name": "stdout",
     "output_type": "stream",
     "text": [
      "['apple', 'orange', 'banana', 'cherry', 'watermelon']\n",
      "<class 'list'>\n"
     ]
    }
   ],
   "source": [
    "# 5. list type example\n",
    "\n",
    "fuirts = [\"apple\", \"orange\", \"banana\", \"cherry\", \"watermelon\"]\n",
    "\n",
    "#display the value of fuirts \n",
    "print(fuirts)\n",
    "\n",
    "#display the data type of fuirts\n",
    "print(type (fuirts))"
   ]
  },
  {
   "cell_type": "code",
   "execution_count": 10,
   "id": "d8c817dc",
   "metadata": {},
   "outputs": [
    {
     "name": "stdout",
     "output_type": "stream",
     "text": [
      "('apple', 'orange', 'watermelon')\n",
      "<class 'tuple'>\n"
     ]
    }
   ],
   "source": [
    "# 6. tuple type example \n",
    "fuirts = (\"apple\", \"orange\", \"watermelon\")\n",
    "\n",
    "#display the value of fuirts\n",
    "print(fuirts)\n",
    "\n",
    "#display the data type of fuirts\n",
    "print(type(fuirts))"
   ]
  },
  {
   "cell_type": "code",
   "execution_count": 11,
   "id": "c0473747",
   "metadata": {},
   "outputs": [
    {
     "name": "stdout",
     "output_type": "stream",
     "text": [
      "range(0, 10)\n",
      "<class 'range'>\n"
     ]
    }
   ],
   "source": [
    "#7range type example\n",
    "x = range(10)\n",
    "\n",
    "\n",
    "#display value of x\n",
    "print(x)\n",
    "\n",
    "#display data type of x\n",
    "print(type(x))"
   ]
  },
  {
   "cell_type": "code",
   "execution_count": 12,
   "id": "891c2d00",
   "metadata": {},
   "outputs": [
    {
     "name": "stdout",
     "output_type": "stream",
     "text": [
      "{'Roll': 505, 'name': 'Abu Bakar', 'optional_subject': 'Higher Math'}\n",
      "<class 'dict'>\n"
     ]
    }
   ],
   "source": [
    "#8 dictionary type example\n",
    "student = {\"Roll\":505, \"name\":\"Abu Bakar\", \"optional_subject\":\"Higher Math\" }\n",
    "\n",
    "#display the value of student\n",
    "print(student)\n",
    "\n",
    "#display the data type of student\n",
    "print(type(student))"
   ]
  },
  {
   "cell_type": "code",
   "execution_count": 13,
   "id": "34f51538",
   "metadata": {},
   "outputs": [
    {
     "name": "stdout",
     "output_type": "stream",
     "text": [
      "{'Banana', 'orange', 'Apple'}\n",
      "<class 'set'>\n"
     ]
    }
   ],
   "source": [
    "#9 set type example\n",
    "\n",
    "y = {\"Apple\", \"orange\", \"Banana\"}\n",
    "\n",
    "#display the value of y\n",
    "print(y)\n",
    "\n",
    "#display the data type of y\n",
    "print(type(y))"
   ]
  },
  {
   "cell_type": "code",
   "execution_count": 15,
   "id": "4cc4a18d",
   "metadata": {},
   "outputs": [
    {
     "name": "stdout",
     "output_type": "stream",
     "text": [
      "frozenset({'Banana', 'orange', 'Apple'})\n",
      "<class 'frozenset'>\n"
     ]
    }
   ],
   "source": [
    "# 10. frozenset type example\n",
    "\n",
    "y = frozenset({\"Apple\", \"orange\", \"Banana\"})\n",
    "\n",
    "#display the value of y\n",
    "print(y)\n",
    "\n",
    "#display the data type of y\n",
    "print(type(y))"
   ]
  },
  {
   "cell_type": "code",
   "execution_count": 16,
   "id": "12bc1782",
   "metadata": {},
   "outputs": [
    {
     "name": "stdout",
     "output_type": "stream",
     "text": [
      "True True\n",
      "<class 'bool'> <class 'bool'>\n"
     ]
    }
   ],
   "source": [
    "# 11 boolean type example\n",
    "\n",
    "x = bool(5)\n",
    "y = True\n",
    "\n",
    "#display the value of x, y\n",
    "print(x, y)\n",
    "\n",
    "#display the data type of y\n",
    "print(type(x), type(y))"
   ]
  },
  {
   "cell_type": "code",
   "execution_count": 17,
   "id": "cd97f7c5",
   "metadata": {},
   "outputs": [
    {
     "name": "stdout",
     "output_type": "stream",
     "text": [
      "b'\\x00\\x00\\x00\\x00\\x00\\x00'\n",
      "<class 'bytes'>\n"
     ]
    }
   ],
   "source": [
    "# 12. bytes type example\n",
    "\n",
    "x = bytes(6)\n",
    "\n",
    "\n",
    "#display value of x\n",
    "print(x)\n",
    "\n",
    "#display data type of x\n",
    "print(type(x))"
   ]
  },
  {
   "cell_type": "code",
   "execution_count": 18,
   "id": "363e4b5e",
   "metadata": {},
   "outputs": [
    {
     "name": "stdout",
     "output_type": "stream",
     "text": [
      "bytearray(b'\\x00\\x00\\x00\\x00\\x00')\n",
      "<class 'bytearray'>\n"
     ]
    }
   ],
   "source": [
    "# 13. bytearray type example\n",
    "\n",
    "x = bytearray(5)\n",
    "\n",
    "#display value of x\n",
    "print(x)\n",
    "\n",
    "#display data type of x\n",
    "print(type(x))"
   ]
  },
  {
   "cell_type": "code",
   "execution_count": null,
   "id": "ee7e9d54",
   "metadata": {},
   "outputs": [],
   "source": [
    "#14. "
   ]
  },
  {
   "cell_type": "code",
   "execution_count": null,
   "id": "ce4d40bf",
   "metadata": {},
   "outputs": [],
   "source": []
  }
 ],
 "metadata": {
  "kernelspec": {
   "display_name": "Python 3 (ipykernel)",
   "language": "python",
   "name": "python3"
  },
  "language_info": {
   "codemirror_mode": {
    "name": "ipython",
    "version": 3
   },
   "file_extension": ".py",
   "mimetype": "text/x-python",
   "name": "python",
   "nbconvert_exporter": "python",
   "pygments_lexer": "ipython3",
   "version": "3.9.13"
  }
 },
 "nbformat": 4,
 "nbformat_minor": 5
}
