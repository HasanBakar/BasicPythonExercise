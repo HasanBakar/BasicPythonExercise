{
 "cells": [
  {
   "cell_type": "markdown",
   "id": "52d0290d",
   "metadata": {},
   "source": [
    "# 💙💚 Simple print something "
   ]
  },
  {
   "cell_type": "code",
   "execution_count": 3,
   "id": "0a09b66d",
   "metadata": {},
   "outputs": [
    {
     "name": "stdout",
     "output_type": "stream",
     "text": [
      "Hello world!\n",
      "My name is Abu Bakar\n",
      "\n",
      "I am a MERN stack developer\n",
      "    and also a running student \n",
      "        in computer science and engineering.\n",
      "\n"
     ]
    }
   ],
   "source": [
    "print('Hello world!')\n",
    "print(\"My name is Abu Bakar\")\n",
    "print('''\n",
    "I am a MERN stack developer\n",
    "    and also a running student \n",
    "        in computer science and engineering.\n",
    "''')"
   ]
  },
  {
   "cell_type": "markdown",
   "id": "f3132b06",
   "metadata": {},
   "source": [
    "In above the source code \n",
    "we can print something in three ways\n",
    "1. single quotation \n",
    "2. double quotation\n",
    "3. triple quotation\n"
   ]
  },
  {
   "cell_type": "markdown",
   "id": "d6e442fa",
   "metadata": {},
   "source": [
    "# Indentation refers to the spaces at the beginning of a code line.\n",
    "\n",
    "Where in other programming languages the indentation in code is for readability only, the indentation in Python is very important.\n",
    "\n",
    "Python uses indentation to indicate a block of code.\n",
    "\n"
   ]
  },
  {
   "cell_type": "markdown",
   "id": "63ca8d6b",
   "metadata": {},
   "source": [
    "# Python Comments\n",
    "\n",
    "Comments can be used to explain Python code.\n",
    "\n",
    "Comments can be used to make the code more readable.\n",
    "\n",
    "Comments can be used to prevent execution when testing code."
   ]
  },
  {
   "cell_type": "code",
   "execution_count": 4,
   "id": "a593aed2",
   "metadata": {},
   "outputs": [],
   "source": [
    "# this a comments"
   ]
  },
  {
   "cell_type": "markdown",
   "id": "c5bb1d8c",
   "metadata": {},
   "source": [
    "# Variables\n",
    "Variables are containers for storing data values.\n",
    "\n"
   ]
  },
  {
   "cell_type": "code",
   "execution_count": 5,
   "id": "a2d96581",
   "metadata": {},
   "outputs": [
    {
     "name": "stdout",
     "output_type": "stream",
     "text": [
      "Abu Bakar 100 12 5.44\n"
     ]
    }
   ],
   "source": [
    "name = 'Abu Bakar'\n",
    "savings = 100\n",
    "num_months = 12\n",
    "height = 5.44\n",
    "print(name, savings, num_months, height)"
   ]
  },
  {
   "cell_type": "markdown",
   "id": "6cc99525",
   "metadata": {},
   "source": [
    "# Python - Variable Names\n",
    "A variable name must start with a letter or the underscore character\n",
    "A variable name cannot start with a number\n",
    "A variable name can only contain alpha-numeric characters and underscores (A-z, 0-9, and _ )\n",
    "Variable names are case-sensitive (age, Age and AGE are three different variables)\n",
    "A variable name cannot be any of the Python keywords.\n",
    "\n"
   ]
  },
  {
   "cell_type": "markdown",
   "id": "587a5768",
   "metadata": {},
   "source": [
    "~~~Remember that variable names are case-sensitive"
   ]
  },
  {
   "cell_type": "code",
   "execution_count": 6,
   "id": "f2ba3054",
   "metadata": {},
   "outputs": [],
   "source": [
    "# multiple variable declaration\n",
    "x, y, z = 3, 5, 6\n",
    "p, q, r = 'Orange', 'Apple', 'Pump'\n"
   ]
  },
  {
   "cell_type": "markdown",
   "id": "95686e32",
   "metadata": {},
   "source": [
    "# Type Casting and Get the Type using type() method"
   ]
  },
  {
   "cell_type": "code",
   "execution_count": 1,
   "id": "14f4aad6",
   "metadata": {},
   "outputs": [
    {
     "name": "stdout",
     "output_type": "stream",
     "text": [
      "This variable type  <class 'int'> 33\n",
      "This variable type is <class 'str'> 33\n",
      "This variable type is  <class 'float'> 33.0\n",
      "This variable type is <class 'int'> 33\n"
     ]
    }
   ],
   "source": [
    "number = 33\n",
    "# number to string \n",
    "stringFormat  = str(number)\n",
    "#integer to float \n",
    "floatFormat = float(number)\n",
    "#string to integer number\n",
    "integerNumber = int(stringFormat)\n",
    "print(\"This variable type \", type(number), number)\n",
    "print(\"This variable type is\",type(stringFormat), stringFormat)\n",
    "print(\"This variable type is \",type(floatFormat), floatFormat)\n",
    "print(\"This variable type is\", type(integerNumber),integerNumber)"
   ]
  },
  {
   "cell_type": "markdown",
   "id": "abdb8e1f",
   "metadata": {},
   "source": [
    "## Many Values to Multiple Variables\n"
   ]
  },
  {
   "cell_type": "code",
   "execution_count": 2,
   "id": "40c7e787",
   "metadata": {},
   "outputs": [
    {
     "name": "stdout",
     "output_type": "stream",
     "text": [
      "x = Ami y = Tumi z = Amra\n"
     ]
    }
   ],
   "source": [
    "# Python allows you to assign values to multiple variables in one line:\n",
    "\n",
    "x, y, z  = \"Ami\", \"Tumi\", \"Amra\"\n",
    "print(\"x =\", x, \"y =\",y, \"z =\", z )"
   ]
  },
  {
   "cell_type": "markdown",
   "id": "c73a1182",
   "metadata": {},
   "source": [
    "## One Value to Multiple Variables"
   ]
  },
  {
   "cell_type": "code",
   "execution_count": 3,
   "id": "e83a2bc2",
   "metadata": {},
   "outputs": [
    {
     "name": "stdout",
     "output_type": "stream",
     "text": [
      "Orange\n",
      "Orange\n",
      "Orange\n"
     ]
    }
   ],
   "source": [
    "x = y = z = \"Orange\"\n",
    "print(x)\n",
    "print(y)\n",
    "print(z)"
   ]
  },
  {
   "cell_type": "markdown",
   "id": "bd0e30c3",
   "metadata": {},
   "source": [
    "##  Unpack a Collection\n",
    "If you have a collection of values in a list, tuple etc. Python allows you to extract the values into variables. This is called unpacking.\n",
    "\n"
   ]
  },
  {
   "cell_type": "code",
   "execution_count": 5,
   "id": "fc286d9a",
   "metadata": {},
   "outputs": [
    {
     "name": "stdout",
     "output_type": "stream",
     "text": [
      "Apple\n",
      "Banana\n",
      "Cherry\n"
     ]
    }
   ],
   "source": [
    "# list unpacking\n",
    "fruits = [\"Apple\", \"Banana\", \"Cherry\"]\n",
    "x,  y, z = fruits\n",
    "print(x)\n",
    "print(y)\n",
    "print(z)"
   ]
  },
  {
   "cell_type": "code",
   "execution_count": 6,
   "id": "2ba1284d",
   "metadata": {},
   "outputs": [
    {
     "name": "stdout",
     "output_type": "stream",
     "text": [
      "Apple\n",
      "Banana\n",
      "Cherry\n"
     ]
    }
   ],
   "source": [
    "# tuple unpacking\n",
    "fruits = (\"Apple\", \"Banana\", \"Cherry\")\n",
    "(x,y,z) = fruits\n",
    "print(x)\n",
    "print(y)\n",
    "print(z)"
   ]
  },
  {
   "cell_type": "markdown",
   "id": "4a8fd9e6",
   "metadata": {},
   "source": [
    "#### If the asterisk is added to another variable name than the last, Python will assign values to the variable until the number of values left matches the number of variables left.\n",
    "\n"
   ]
  },
  {
   "cell_type": "code",
   "execution_count": 8,
   "id": "c932eee8",
   "metadata": {},
   "outputs": [
    {
     "name": "stdout",
     "output_type": "stream",
     "text": [
      "Apple\n",
      "Banana\n",
      "['Cherry', 'Mango', 'Orange', 'Watermelon']\n"
     ]
    }
   ],
   "source": [
    "# special case I of tuple\n",
    "fruits = (\"Apple\", \"Banana\", \"Cherry\", \"Mango\", \"Orange\",\"Watermelon\")\n",
    "(x, y,  *z) = fruits\n",
    "print(x)\n",
    "print(y)\n",
    "print(z)"
   ]
  },
  {
   "cell_type": "code",
   "execution_count": 9,
   "id": "aa6d8cb8",
   "metadata": {},
   "outputs": [
    {
     "name": "stdout",
     "output_type": "stream",
     "text": [
      "Apple\n",
      "['Banana', 'Cherry', 'Mango', 'Orange']\n",
      "Watermelon\n"
     ]
    }
   ],
   "source": [
    "# special case II of tuple\n",
    "fruits = (\"Apple\", \"Banana\", \"Cherry\", \"Mango\", \"Orange\",\"Watermelon\")\n",
    "(x, *y,  z) = fruits\n",
    "print(x)\n",
    "print(y)\n",
    "print(z)"
   ]
  },
  {
   "cell_type": "code",
   "execution_count": 10,
   "id": "d578ed2f",
   "metadata": {},
   "outputs": [
    {
     "name": "stdout",
     "output_type": "stream",
     "text": [
      "['Apple', 'Banana', 'Cherry', 'Mango']\n",
      "Orange\n",
      "Watermelon\n"
     ]
    }
   ],
   "source": [
    "# special case III of tuple\n",
    "fruits = (\"Apple\", \"Banana\", \"Cherry\", \"Mango\", \"Orange\",\"Watermelon\")\n",
    "(*x, y,  z) = fruits\n",
    "print(x)\n",
    "print(y)\n",
    "print(z)"
   ]
  },
  {
   "cell_type": "markdown",
   "id": "54b75eff",
   "metadata": {},
   "source": [
    "# # Python - Output Variables\n",
    "\n"
   ]
  },
  {
   "cell_type": "code",
   "execution_count": 11,
   "id": "6368d216",
   "metadata": {},
   "outputs": [
    {
     "name": "stdout",
     "output_type": "stream",
     "text": [
      "I am a quick learner. Now I am  learning python basic\n"
     ]
    }
   ],
   "source": [
    "#The Python print() function is often used to output variables.\n",
    "\n",
    "x = \"I am a quick learner. Now I am  learning python basic\"\n",
    "print(x)"
   ]
  },
  {
   "cell_type": "code",
   "execution_count": 12,
   "id": "5a2579eb",
   "metadata": {},
   "outputs": [
    {
     "name": "stdout",
     "output_type": "stream",
     "text": [
      "python is Awesome!\n"
     ]
    }
   ],
   "source": [
    "# In the print() function, you output multiple variables, separated by a comma:\n",
    "\n",
    "x = 'python'\n",
    "y = 'is'\n",
    "z = 'Awesome!'\n",
    "print(x, y, z)"
   ]
  },
  {
   "cell_type": "code",
   "execution_count": 15,
   "id": "6473befe",
   "metadata": {},
   "outputs": [
    {
     "name": "stdout",
     "output_type": "stream",
     "text": [
      "Keep learning keep exploring\n"
     ]
    }
   ],
   "source": [
    "# we can also use the + operator to output multiple variables:\n",
    "x = 'Keep '\n",
    "y = 'learning '\n",
    "z = 'keep '\n",
    "u = \"exploring\"\n",
    "print(x + y + z + u)\n"
   ]
  },
  {
   "cell_type": "markdown",
   "id": "d41d4646",
   "metadata": {},
   "source": [
    "##  Global Variables\n",
    "Variables that are created outside of a function (as in all of the examples above) are known as global variables.\n",
    "\n",
    "Global variables can be used by everyone, both inside of functions and outside."
   ]
  },
  {
   "cell_type": "code",
   "execution_count": 18,
   "id": "e06f2060",
   "metadata": {},
   "outputs": [
    {
     "name": "stdout",
     "output_type": "stream",
     "text": [
      "Hello, Kasem Welcome!\n"
     ]
    }
   ],
   "source": [
    "x = \"Kasem\"\n",
    "def greetings():\n",
    "    print(\"Hello,\", x, \"Welcome!\")\n",
    "greetings()"
   ]
  },
  {
   "cell_type": "code",
   "execution_count": null,
   "id": "f048de9d",
   "metadata": {},
   "outputs": [],
   "source": []
  }
 ],
 "metadata": {
  "kernelspec": {
   "display_name": "Python 3 (ipykernel)",
   "language": "python",
   "name": "python3"
  },
  "language_info": {
   "codemirror_mode": {
    "name": "ipython",
    "version": 3
   },
   "file_extension": ".py",
   "mimetype": "text/x-python",
   "name": "python",
   "nbconvert_exporter": "python",
   "pygments_lexer": "ipython3",
   "version": "3.9.13"
  }
 },
 "nbformat": 4,
 "nbformat_minor": 5
}
